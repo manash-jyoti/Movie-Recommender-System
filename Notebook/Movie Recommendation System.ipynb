{
 "cells": [
  {
   "cell_type": "code",
   "execution_count": 1,
   "id": "2a84ae08",
   "metadata": {
    "ExecuteTime": {
     "end_time": "2023-05-22T16:59:23.584445Z",
     "start_time": "2023-05-22T16:59:22.588404Z"
    }
   },
   "outputs": [],
   "source": [
    "# importing the required libraries\n",
    "import numpy as np\n",
    "import pandas as pd"
   ]
  },
  {
   "cell_type": "code",
   "execution_count": 2,
   "id": "d9649e54",
   "metadata": {
    "ExecuteTime": {
     "end_time": "2023-05-22T16:59:30.268615Z",
     "start_time": "2023-05-22T16:59:25.767001Z"
    }
   },
   "outputs": [],
   "source": [
    "# reading the datasets\n",
    "movies = pd.read_csv(\"10000 Movies Data.csv\")\n",
    "credits = pd.read_csv(\"10000 Credits Data.csv\")"
   ]
  },
  {
   "cell_type": "code",
   "execution_count": 3,
   "id": "4e4b8f68",
   "metadata": {
    "ExecuteTime": {
     "end_time": "2023-05-22T16:59:30.940787Z",
     "start_time": "2023-05-22T16:59:30.898472Z"
    }
   },
   "outputs": [
    {
     "data": {
      "text/html": [
       "<div>\n",
       "<style scoped>\n",
       "    .dataframe tbody tr th:only-of-type {\n",
       "        vertical-align: middle;\n",
       "    }\n",
       "\n",
       "    .dataframe tbody tr th {\n",
       "        vertical-align: top;\n",
       "    }\n",
       "\n",
       "    .dataframe thead th {\n",
       "        text-align: right;\n",
       "    }\n",
       "</style>\n",
       "<table border=\"1\" class=\"dataframe\">\n",
       "  <thead>\n",
       "    <tr style=\"text-align: right;\">\n",
       "      <th></th>\n",
       "      <th>Unnamed: 0</th>\n",
       "      <th>Movie_id</th>\n",
       "      <th>title</th>\n",
       "      <th>Genres</th>\n",
       "      <th>release_date</th>\n",
       "      <th>Keywords</th>\n",
       "      <th>overview</th>\n",
       "      <th>poster_path</th>\n",
       "      <th>Budget</th>\n",
       "      <th>Revenue</th>\n",
       "      <th>popularity</th>\n",
       "      <th>vote_average</th>\n",
       "      <th>vote_count</th>\n",
       "    </tr>\n",
       "  </thead>\n",
       "  <tbody>\n",
       "    <tr>\n",
       "      <th>0</th>\n",
       "      <td>0</td>\n",
       "      <td>238</td>\n",
       "      <td>The Godfather</td>\n",
       "      <td>[{'id': 18, 'name': 'Drama'}, {'id': 80, 'name...</td>\n",
       "      <td>1972-03-14</td>\n",
       "      <td>[{'id': 131, 'name': 'italy'}, {'id': 697, 'na...</td>\n",
       "      <td>Spanning the years 1945 to 1955, a chronicle o...</td>\n",
       "      <td>/3bhkrj58Vtu7enYsRolD1fZdja1.jpg</td>\n",
       "      <td>245066411</td>\n",
       "      <td>245066411</td>\n",
       "      <td>93.552</td>\n",
       "      <td>8.7</td>\n",
       "      <td>16814</td>\n",
       "    </tr>\n",
       "    <tr>\n",
       "      <th>1</th>\n",
       "      <td>1</td>\n",
       "      <td>278</td>\n",
       "      <td>The Shawshank Redemption</td>\n",
       "      <td>[{'id': 18, 'name': 'Drama'}, {'id': 80, 'name...</td>\n",
       "      <td>1994-09-23</td>\n",
       "      <td>[{'id': 378, 'name': 'prison'}, {'id': 417, 'n...</td>\n",
       "      <td>Framed in the 1940s for the double murder of h...</td>\n",
       "      <td>/q6y0Go1tsGEsmtFryDOJo3dEmqu.jpg</td>\n",
       "      <td>28341469</td>\n",
       "      <td>28341469</td>\n",
       "      <td>78.664</td>\n",
       "      <td>8.7</td>\n",
       "      <td>22542</td>\n",
       "    </tr>\n",
       "  </tbody>\n",
       "</table>\n",
       "</div>"
      ],
      "text/plain": [
       "   Unnamed: 0  Movie_id                     title  \\\n",
       "0           0       238             The Godfather   \n",
       "1           1       278  The Shawshank Redemption   \n",
       "\n",
       "                                              Genres release_date  \\\n",
       "0  [{'id': 18, 'name': 'Drama'}, {'id': 80, 'name...   1972-03-14   \n",
       "1  [{'id': 18, 'name': 'Drama'}, {'id': 80, 'name...   1994-09-23   \n",
       "\n",
       "                                            Keywords  \\\n",
       "0  [{'id': 131, 'name': 'italy'}, {'id': 697, 'na...   \n",
       "1  [{'id': 378, 'name': 'prison'}, {'id': 417, 'n...   \n",
       "\n",
       "                                            overview  \\\n",
       "0  Spanning the years 1945 to 1955, a chronicle o...   \n",
       "1  Framed in the 1940s for the double murder of h...   \n",
       "\n",
       "                        poster_path     Budget    Revenue  popularity  \\\n",
       "0  /3bhkrj58Vtu7enYsRolD1fZdja1.jpg  245066411  245066411      93.552   \n",
       "1  /q6y0Go1tsGEsmtFryDOJo3dEmqu.jpg   28341469   28341469      78.664   \n",
       "\n",
       "   vote_average  vote_count  \n",
       "0           8.7       16814  \n",
       "1           8.7       22542  "
      ]
     },
     "execution_count": 3,
     "metadata": {},
     "output_type": "execute_result"
    }
   ],
   "source": [
    "# checking the head of movies dataset\n",
    "movies.head(2)"
   ]
  },
  {
   "cell_type": "code",
   "execution_count": 4,
   "id": "8d953d13",
   "metadata": {
    "ExecuteTime": {
     "end_time": "2023-05-22T16:59:33.175675Z",
     "start_time": "2023-05-22T16:59:33.153447Z"
    }
   },
   "outputs": [
    {
     "data": {
      "text/html": [
       "<div>\n",
       "<style scoped>\n",
       "    .dataframe tbody tr th:only-of-type {\n",
       "        vertical-align: middle;\n",
       "    }\n",
       "\n",
       "    .dataframe tbody tr th {\n",
       "        vertical-align: top;\n",
       "    }\n",
       "\n",
       "    .dataframe thead th {\n",
       "        text-align: right;\n",
       "    }\n",
       "</style>\n",
       "<table border=\"1\" class=\"dataframe\">\n",
       "  <thead>\n",
       "    <tr style=\"text-align: right;\">\n",
       "      <th></th>\n",
       "      <th>Unnamed: 0</th>\n",
       "      <th>Movie_id</th>\n",
       "      <th>title</th>\n",
       "      <th>Cast</th>\n",
       "      <th>Crew</th>\n",
       "    </tr>\n",
       "  </thead>\n",
       "  <tbody>\n",
       "    <tr>\n",
       "      <th>0</th>\n",
       "      <td>0</td>\n",
       "      <td>238</td>\n",
       "      <td>The Godfather</td>\n",
       "      <td>[{'adult': False, 'gender': 2, 'id': 3084, 'kn...</td>\n",
       "      <td>[{'adult': False, 'gender': 2, 'id': 154, 'kno...</td>\n",
       "    </tr>\n",
       "    <tr>\n",
       "      <th>1</th>\n",
       "      <td>1</td>\n",
       "      <td>278</td>\n",
       "      <td>The Shawshank Redemption</td>\n",
       "      <td>[{'adult': False, 'gender': 2, 'id': 504, 'kno...</td>\n",
       "      <td>[{'adult': False, 'gender': 2, 'id': 153, 'kno...</td>\n",
       "    </tr>\n",
       "  </tbody>\n",
       "</table>\n",
       "</div>"
      ],
      "text/plain": [
       "   Unnamed: 0  Movie_id                     title  \\\n",
       "0           0       238             The Godfather   \n",
       "1           1       278  The Shawshank Redemption   \n",
       "\n",
       "                                                Cast  \\\n",
       "0  [{'adult': False, 'gender': 2, 'id': 3084, 'kn...   \n",
       "1  [{'adult': False, 'gender': 2, 'id': 504, 'kno...   \n",
       "\n",
       "                                                Crew  \n",
       "0  [{'adult': False, 'gender': 2, 'id': 154, 'kno...  \n",
       "1  [{'adult': False, 'gender': 2, 'id': 153, 'kno...  "
      ]
     },
     "execution_count": 4,
     "metadata": {},
     "output_type": "execute_result"
    }
   ],
   "source": [
    "# checking the head of credits dataset\n",
    "credits.head(2)"
   ]
  },
  {
   "cell_type": "code",
   "execution_count": 5,
   "id": "060e1c62",
   "metadata": {
    "ExecuteTime": {
     "end_time": "2023-05-22T16:59:35.010285Z",
     "start_time": "2023-05-22T16:59:34.963488Z"
    }
   },
   "outputs": [
    {
     "name": "stdout",
     "output_type": "stream",
     "text": [
      "<class 'pandas.core.frame.DataFrame'>\n",
      "RangeIndex: 9980 entries, 0 to 9979\n",
      "Data columns (total 13 columns):\n",
      " #   Column        Non-Null Count  Dtype  \n",
      "---  ------        --------------  -----  \n",
      " 0   Unnamed: 0    9980 non-null   int64  \n",
      " 1   Movie_id      9980 non-null   int64  \n",
      " 2   title         9980 non-null   object \n",
      " 3   Genres        9980 non-null   object \n",
      " 4   release_date  9980 non-null   object \n",
      " 5   Keywords      9980 non-null   object \n",
      " 6   overview      9974 non-null   object \n",
      " 7   poster_path   9980 non-null   object \n",
      " 8   Budget        9980 non-null   int64  \n",
      " 9   Revenue       9980 non-null   int64  \n",
      " 10  popularity    9980 non-null   float64\n",
      " 11  vote_average  9980 non-null   float64\n",
      " 12  vote_count    9980 non-null   int64  \n",
      "dtypes: float64(2), int64(5), object(6)\n",
      "memory usage: 1013.7+ KB\n"
     ]
    }
   ],
   "source": [
    "# getting an overview of movies dataset\n",
    "movies.info()"
   ]
  },
  {
   "cell_type": "code",
   "execution_count": 6,
   "id": "04772435",
   "metadata": {
    "ExecuteTime": {
     "end_time": "2023-05-22T16:59:37.044051Z",
     "start_time": "2023-05-22T16:59:36.994837Z"
    }
   },
   "outputs": [
    {
     "name": "stdout",
     "output_type": "stream",
     "text": [
      "<class 'pandas.core.frame.DataFrame'>\n",
      "RangeIndex: 9980 entries, 0 to 9979\n",
      "Data columns (total 5 columns):\n",
      " #   Column      Non-Null Count  Dtype \n",
      "---  ------      --------------  ----- \n",
      " 0   Unnamed: 0  9980 non-null   int64 \n",
      " 1   Movie_id    9980 non-null   int64 \n",
      " 2   title       9980 non-null   object\n",
      " 3   Cast        9980 non-null   object\n",
      " 4   Crew        9980 non-null   object\n",
      "dtypes: int64(2), object(3)\n",
      "memory usage: 390.0+ KB\n"
     ]
    }
   ],
   "source": [
    "# getting an overview of credits data\n",
    "credits.info()"
   ]
  },
  {
   "cell_type": "markdown",
   "id": "e2b32f08",
   "metadata": {
    "ExecuteTime": {
     "end_time": "2023-05-15T08:54:38.022786Z",
     "start_time": "2023-05-15T08:54:38.003549Z"
    }
   },
   "source": [
    "* The movies dataset has several columns with missing values. We need to address them.\n",
    "* The **credits** dataset does not have any missing values."
   ]
  },
  {
   "cell_type": "markdown",
   "id": "2fd26afe",
   "metadata": {},
   "source": [
    "We can see that both cast and crew columns have values which are included within inverted commas (\"\"). We can use *eval()* function to access the list items."
   ]
  },
  {
   "cell_type": "markdown",
   "id": "c438fbf8",
   "metadata": {
    "ExecuteTime": {
     "end_time": "2023-05-15T09:05:29.760934Z",
     "start_time": "2023-05-15T09:05:29.748964Z"
    }
   },
   "source": [
    "For ease of analysis, we will merge the two dataset as they have a couple of columns in common."
   ]
  },
  {
   "cell_type": "code",
   "execution_count": 7,
   "id": "d3d55539",
   "metadata": {
    "ExecuteTime": {
     "end_time": "2023-05-22T16:59:39.476466Z",
     "start_time": "2023-05-22T16:59:39.442285Z"
    }
   },
   "outputs": [],
   "source": [
    "movies_data = pd.merge(movies, credits, on = \"Movie_id\")"
   ]
  },
  {
   "cell_type": "code",
   "execution_count": 8,
   "id": "ef5de599",
   "metadata": {
    "ExecuteTime": {
     "end_time": "2023-05-22T16:59:56.924893Z",
     "start_time": "2023-05-22T16:59:56.876941Z"
    }
   },
   "outputs": [
    {
     "name": "stdout",
     "output_type": "stream",
     "text": [
      "<class 'pandas.core.frame.DataFrame'>\n",
      "Int64Index: 9980 entries, 0 to 9979\n",
      "Data columns (total 17 columns):\n",
      " #   Column        Non-Null Count  Dtype  \n",
      "---  ------        --------------  -----  \n",
      " 0   Unnamed: 0_x  9980 non-null   int64  \n",
      " 1   Movie_id      9980 non-null   int64  \n",
      " 2   title_x       9980 non-null   object \n",
      " 3   Genres        9980 non-null   object \n",
      " 4   release_date  9980 non-null   object \n",
      " 5   Keywords      9980 non-null   object \n",
      " 6   overview      9974 non-null   object \n",
      " 7   poster_path   9980 non-null   object \n",
      " 8   Budget        9980 non-null   int64  \n",
      " 9   Revenue       9980 non-null   int64  \n",
      " 10  popularity    9980 non-null   float64\n",
      " 11  vote_average  9980 non-null   float64\n",
      " 12  vote_count    9980 non-null   int64  \n",
      " 13  Unnamed: 0_y  9980 non-null   int64  \n",
      " 14  title_y       9980 non-null   object \n",
      " 15  Cast          9980 non-null   object \n",
      " 16  Crew          9980 non-null   object \n",
      "dtypes: float64(2), int64(6), object(9)\n",
      "memory usage: 1.4+ MB\n"
     ]
    }
   ],
   "source": [
    "# checking the information of the merged dataframe\n",
    "movies_data.info()"
   ]
  },
  {
   "cell_type": "code",
   "execution_count": 9,
   "id": "c924568e",
   "metadata": {
    "ExecuteTime": {
     "end_time": "2023-05-22T16:59:58.832982Z",
     "start_time": "2023-05-22T16:59:58.800955Z"
    },
    "scrolled": true
   },
   "outputs": [
    {
     "data": {
      "text/plain": [
       "overview        6\n",
       "Unnamed: 0_x    0\n",
       "Revenue         0\n",
       "Cast            0\n",
       "title_y         0\n",
       "Unnamed: 0_y    0\n",
       "vote_count      0\n",
       "vote_average    0\n",
       "popularity      0\n",
       "Budget          0\n",
       "Movie_id        0\n",
       "poster_path     0\n",
       "Keywords        0\n",
       "release_date    0\n",
       "Genres          0\n",
       "title_x         0\n",
       "Crew            0\n",
       "dtype: int64"
      ]
     },
     "execution_count": 9,
     "metadata": {},
     "output_type": "execute_result"
    }
   ],
   "source": [
    "# checking for null values\n",
    "movies_data.isnull().sum().sort_values(ascending=False)"
   ]
  },
  {
   "cell_type": "markdown",
   "id": "a72e5e98",
   "metadata": {},
   "source": [
    "Since, we only have 6 NaN values in the entire dataset, we will get rid of them in order to make the recommendation system more efficient."
   ]
  },
  {
   "cell_type": "code",
   "execution_count": 10,
   "id": "caa5692b",
   "metadata": {
    "ExecuteTime": {
     "end_time": "2023-05-22T17:00:00.739645Z",
     "start_time": "2023-05-22T17:00:00.679938Z"
    }
   },
   "outputs": [],
   "source": [
    "movies_data.dropna(inplace=True)"
   ]
  },
  {
   "cell_type": "code",
   "execution_count": 11,
   "id": "716d70c4",
   "metadata": {
    "ExecuteTime": {
     "end_time": "2023-05-22T17:00:01.632496Z",
     "start_time": "2023-05-22T17:00:01.615063Z"
    }
   },
   "outputs": [],
   "source": [
    "movies_data.rename(columns = {\"title_x\":\"Title\"}, inplace = True)"
   ]
  },
  {
   "cell_type": "code",
   "execution_count": 12,
   "id": "7ccc155c",
   "metadata": {
    "ExecuteTime": {
     "end_time": "2023-05-22T17:00:02.483102Z",
     "start_time": "2023-05-22T17:00:02.451050Z"
    }
   },
   "outputs": [
    {
     "data": {
      "text/html": [
       "<div>\n",
       "<style scoped>\n",
       "    .dataframe tbody tr th:only-of-type {\n",
       "        vertical-align: middle;\n",
       "    }\n",
       "\n",
       "    .dataframe tbody tr th {\n",
       "        vertical-align: top;\n",
       "    }\n",
       "\n",
       "    .dataframe thead th {\n",
       "        text-align: right;\n",
       "    }\n",
       "</style>\n",
       "<table border=\"1\" class=\"dataframe\">\n",
       "  <thead>\n",
       "    <tr style=\"text-align: right;\">\n",
       "      <th></th>\n",
       "      <th>Unnamed: 0_x</th>\n",
       "      <th>Movie_id</th>\n",
       "      <th>Title</th>\n",
       "      <th>Genres</th>\n",
       "      <th>release_date</th>\n",
       "      <th>Keywords</th>\n",
       "      <th>overview</th>\n",
       "      <th>poster_path</th>\n",
       "      <th>Budget</th>\n",
       "      <th>Revenue</th>\n",
       "      <th>popularity</th>\n",
       "      <th>vote_average</th>\n",
       "      <th>vote_count</th>\n",
       "      <th>Unnamed: 0_y</th>\n",
       "      <th>title_y</th>\n",
       "      <th>Cast</th>\n",
       "      <th>Crew</th>\n",
       "    </tr>\n",
       "  </thead>\n",
       "  <tbody>\n",
       "    <tr>\n",
       "      <th>0</th>\n",
       "      <td>0</td>\n",
       "      <td>238</td>\n",
       "      <td>The Godfather</td>\n",
       "      <td>[{'id': 18, 'name': 'Drama'}, {'id': 80, 'name...</td>\n",
       "      <td>1972-03-14</td>\n",
       "      <td>[{'id': 131, 'name': 'italy'}, {'id': 697, 'na...</td>\n",
       "      <td>Spanning the years 1945 to 1955, a chronicle o...</td>\n",
       "      <td>/3bhkrj58Vtu7enYsRolD1fZdja1.jpg</td>\n",
       "      <td>245066411</td>\n",
       "      <td>245066411</td>\n",
       "      <td>93.552</td>\n",
       "      <td>8.7</td>\n",
       "      <td>16814</td>\n",
       "      <td>0</td>\n",
       "      <td>The Godfather</td>\n",
       "      <td>[{'adult': False, 'gender': 2, 'id': 3084, 'kn...</td>\n",
       "      <td>[{'adult': False, 'gender': 2, 'id': 154, 'kno...</td>\n",
       "    </tr>\n",
       "    <tr>\n",
       "      <th>1</th>\n",
       "      <td>1</td>\n",
       "      <td>278</td>\n",
       "      <td>The Shawshank Redemption</td>\n",
       "      <td>[{'id': 18, 'name': 'Drama'}, {'id': 80, 'name...</td>\n",
       "      <td>1994-09-23</td>\n",
       "      <td>[{'id': 378, 'name': 'prison'}, {'id': 417, 'n...</td>\n",
       "      <td>Framed in the 1940s for the double murder of h...</td>\n",
       "      <td>/q6y0Go1tsGEsmtFryDOJo3dEmqu.jpg</td>\n",
       "      <td>28341469</td>\n",
       "      <td>28341469</td>\n",
       "      <td>78.664</td>\n",
       "      <td>8.7</td>\n",
       "      <td>22542</td>\n",
       "      <td>1</td>\n",
       "      <td>The Shawshank Redemption</td>\n",
       "      <td>[{'adult': False, 'gender': 2, 'id': 504, 'kno...</td>\n",
       "      <td>[{'adult': False, 'gender': 2, 'id': 153, 'kno...</td>\n",
       "    </tr>\n",
       "  </tbody>\n",
       "</table>\n",
       "</div>"
      ],
      "text/plain": [
       "   Unnamed: 0_x  Movie_id                     Title  \\\n",
       "0             0       238             The Godfather   \n",
       "1             1       278  The Shawshank Redemption   \n",
       "\n",
       "                                              Genres release_date  \\\n",
       "0  [{'id': 18, 'name': 'Drama'}, {'id': 80, 'name...   1972-03-14   \n",
       "1  [{'id': 18, 'name': 'Drama'}, {'id': 80, 'name...   1994-09-23   \n",
       "\n",
       "                                            Keywords  \\\n",
       "0  [{'id': 131, 'name': 'italy'}, {'id': 697, 'na...   \n",
       "1  [{'id': 378, 'name': 'prison'}, {'id': 417, 'n...   \n",
       "\n",
       "                                            overview  \\\n",
       "0  Spanning the years 1945 to 1955, a chronicle o...   \n",
       "1  Framed in the 1940s for the double murder of h...   \n",
       "\n",
       "                        poster_path     Budget    Revenue  popularity  \\\n",
       "0  /3bhkrj58Vtu7enYsRolD1fZdja1.jpg  245066411  245066411      93.552   \n",
       "1  /q6y0Go1tsGEsmtFryDOJo3dEmqu.jpg   28341469   28341469      78.664   \n",
       "\n",
       "   vote_average  vote_count  Unnamed: 0_y                   title_y  \\\n",
       "0           8.7       16814             0             The Godfather   \n",
       "1           8.7       22542             1  The Shawshank Redemption   \n",
       "\n",
       "                                                Cast  \\\n",
       "0  [{'adult': False, 'gender': 2, 'id': 3084, 'kn...   \n",
       "1  [{'adult': False, 'gender': 2, 'id': 504, 'kno...   \n",
       "\n",
       "                                                Crew  \n",
       "0  [{'adult': False, 'gender': 2, 'id': 154, 'kno...  \n",
       "1  [{'adult': False, 'gender': 2, 'id': 153, 'kno...  "
      ]
     },
     "execution_count": 12,
     "metadata": {},
     "output_type": "execute_result"
    }
   ],
   "source": [
    "movies_data.head(2)"
   ]
  },
  {
   "cell_type": "code",
   "execution_count": 13,
   "id": "4f0a1b8e",
   "metadata": {
    "ExecuteTime": {
     "end_time": "2023-05-22T17:00:03.666318Z",
     "start_time": "2023-05-22T17:00:03.634854Z"
    }
   },
   "outputs": [],
   "source": [
    "# storing only the required columns\n",
    "movies_data = movies_data[[\"Movie_id\", \"Title\", \"Genres\", \"Keywords\", \"overview\", \"Cast\", \"Crew\"]]"
   ]
  },
  {
   "cell_type": "code",
   "execution_count": 14,
   "id": "0eef217b",
   "metadata": {
    "ExecuteTime": {
     "end_time": "2023-05-22T17:00:07.176518Z",
     "start_time": "2023-05-22T17:00:05.904946Z"
    }
   },
   "outputs": [
    {
     "data": {
      "text/plain": [
       "0"
      ]
     },
     "execution_count": 14,
     "metadata": {},
     "output_type": "execute_result"
    }
   ],
   "source": [
    "# checking for duplicated records\n",
    "movies_data.duplicated().sum()"
   ]
  },
  {
   "cell_type": "markdown",
   "id": "99dc2a77",
   "metadata": {},
   "source": [
    "Since, each record in the columns genre, keywords, cast and crew is a list enclosed within \" \", we can use **eval()** function to get the list item out of each record."
   ]
  },
  {
   "cell_type": "code",
   "execution_count": 15,
   "id": "5478bf15",
   "metadata": {
    "ExecuteTime": {
     "end_time": "2023-05-22T17:00:07.468286Z",
     "start_time": "2023-05-22T17:00:07.452665Z"
    }
   },
   "outputs": [
    {
     "data": {
      "text/plain": [
       "'Drama'"
      ]
     },
     "execution_count": 15,
     "metadata": {},
     "output_type": "execute_result"
    }
   ],
   "source": [
    "eval(movies_data[\"Genres\"][0])[0][\"name\"]"
   ]
  },
  {
   "cell_type": "code",
   "execution_count": 16,
   "id": "ae550fc4",
   "metadata": {
    "ExecuteTime": {
     "end_time": "2023-05-22T17:00:08.752357Z",
     "start_time": "2023-05-22T17:00:08.739401Z"
    }
   },
   "outputs": [
    {
     "name": "stdout",
     "output_type": "stream",
     "text": [
      "Animation\n",
      "Drama\n",
      "War\n"
     ]
    }
   ],
   "source": [
    "for item in eval(movies_data[\"Genres\"][29]):\n",
    "    print(item[\"name\"])"
   ]
  },
  {
   "cell_type": "code",
   "execution_count": 17,
   "id": "5ab38478",
   "metadata": {
    "ExecuteTime": {
     "end_time": "2023-05-22T17:00:18.287638Z",
     "start_time": "2023-05-22T17:00:18.279659Z"
    }
   },
   "outputs": [],
   "source": [
    "# function to extract the values of a column\n",
    "def extract(col):\n",
    "    list_ = []\n",
    "    for item in eval(col):\n",
    "        list_.append(item[\"name\"])\n",
    "    return list_"
   ]
  },
  {
   "cell_type": "code",
   "execution_count": 18,
   "id": "b5060ab9",
   "metadata": {
    "ExecuteTime": {
     "end_time": "2023-05-22T17:00:19.889668Z",
     "start_time": "2023-05-22T17:00:19.512735Z"
    }
   },
   "outputs": [],
   "source": [
    "movies_data[\"Genres\"] = movies_data[\"Genres\"].apply(extract)"
   ]
  },
  {
   "cell_type": "code",
   "execution_count": 19,
   "id": "1e4d8ffc",
   "metadata": {
    "ExecuteTime": {
     "end_time": "2023-05-22T17:00:21.637277Z",
     "start_time": "2023-05-22T17:00:20.602036Z"
    }
   },
   "outputs": [],
   "source": [
    "movies_data[\"Keywords\"] = movies_data[\"Keywords\"].apply(extract)"
   ]
  },
  {
   "cell_type": "code",
   "execution_count": 20,
   "id": "d8655dec",
   "metadata": {
    "ExecuteTime": {
     "end_time": "2023-05-22T17:00:27.255663Z",
     "start_time": "2023-05-22T17:00:27.241669Z"
    }
   },
   "outputs": [],
   "source": [
    "def top_actors(col):\n",
    "    list_ = []\n",
    "    counter = 0\n",
    "    for item in eval(col):\n",
    "        if counter < 3:\n",
    "            list_.append(item[\"name\"])\n",
    "            counter+=1\n",
    "    return list_"
   ]
  },
  {
   "cell_type": "code",
   "execution_count": 21,
   "id": "8b7636ae",
   "metadata": {
    "ExecuteTime": {
     "end_time": "2023-05-22T17:00:46.072520Z",
     "start_time": "2023-05-22T17:00:28.784332Z"
    }
   },
   "outputs": [],
   "source": [
    "# getting the top 3 actors\n",
    "movies_data[\"Cast\"] = movies_data[\"Cast\"].apply(top_actors)"
   ]
  },
  {
   "cell_type": "code",
   "execution_count": 22,
   "id": "5b61f865",
   "metadata": {
    "ExecuteTime": {
     "end_time": "2023-05-22T17:00:48.694978Z",
     "start_time": "2023-05-22T17:00:48.677271Z"
    }
   },
   "outputs": [
    {
     "name": "stdout",
     "output_type": "stream",
     "text": [
      "68\n"
     ]
    }
   ],
   "source": [
    "counter = 0\n",
    "for item in movies_data[\"Cast\"].values:\n",
    "    \n",
    "    if len(item)<3:\n",
    "        counter+=1\n",
    "        #print(item)\n",
    "print(counter)"
   ]
  },
  {
   "cell_type": "code",
   "execution_count": 23,
   "id": "c79c6878",
   "metadata": {
    "ExecuteTime": {
     "end_time": "2023-05-22T17:00:57.847080Z",
     "start_time": "2023-05-22T17:00:57.834114Z"
    }
   },
   "outputs": [],
   "source": [
    "def get_director(col):\n",
    "    list_ = []\n",
    "    for crew in eval(col):\n",
    "        if crew[\"job\"] == \"Director\":\n",
    "            list_.append(crew[\"name\"])\n",
    "    return list_"
   ]
  },
  {
   "cell_type": "code",
   "execution_count": 24,
   "id": "532b2e5d",
   "metadata": {
    "ExecuteTime": {
     "end_time": "2023-05-22T17:01:52.600595Z",
     "start_time": "2023-05-22T17:01:25.405923Z"
    }
   },
   "outputs": [],
   "source": [
    "movies_data[\"director\"] = movies_data[\"Crew\"].apply(get_director)"
   ]
  },
  {
   "cell_type": "code",
   "execution_count": 25,
   "id": "09e5ddef",
   "metadata": {
    "ExecuteTime": {
     "end_time": "2023-05-22T17:01:52.699367Z",
     "start_time": "2023-05-22T17:01:52.600595Z"
    }
   },
   "outputs": [],
   "source": [
    "movies_data[\"overview\"] = movies_data[\"overview\"].apply(lambda x:x.split())"
   ]
  },
  {
   "cell_type": "code",
   "execution_count": 34,
   "id": "b5562065",
   "metadata": {
    "ExecuteTime": {
     "end_time": "2023-05-22T17:09:18.740102Z",
     "start_time": "2023-05-22T17:09:14.529642Z"
    }
   },
   "outputs": [
    {
     "data": {
      "text/plain": [
       "[]                                                                                                           0.060457\n",
       "[woman director]                                                                                             0.003609\n",
       "[anime]                                                                                                      0.001604\n",
       "[based on novel or book]                                                                                     0.000902\n",
       "[short film]                                                                                                 0.000902\n",
       "                                                                                                               ...   \n",
       "[mermaid, princess, based on toy]                                                                            0.000100\n",
       "[video game]                                                                                                 0.000100\n",
       "[prison, based on novel or book, biography, cincinnati, based on true story, serial killer]                  0.000100\n",
       "[florida, insanity, remake, disembodied head, zombie, living dead, zombie apocalypse, florida everglades]    0.000100\n",
       "[poltergeist, haunted house, remake, duringcreditsstinger]                                                   0.000100\n",
       "Name: Keywords, Length: 9196, dtype: float64"
      ]
     },
     "execution_count": 34,
     "metadata": {},
     "output_type": "execute_result"
    }
   ],
   "source": [
    "movies_data[\"Keywords\"].value_counts(10)"
   ]
  },
  {
   "cell_type": "code",
   "execution_count": 33,
   "id": "f5198fc3",
   "metadata": {
    "ExecuteTime": {
     "end_time": "2023-05-22T17:07:35.931325Z",
     "start_time": "2023-05-22T17:07:35.161840Z"
    }
   },
   "outputs": [
    {
     "ename": "AttributeError",
     "evalue": "'list' object has no attribute 'split'",
     "output_type": "error",
     "traceback": [
      "\u001b[1;31m---------------------------------------------------------------------------\u001b[0m",
      "\u001b[1;31mAttributeError\u001b[0m                            Traceback (most recent call last)",
      "\u001b[1;32m~\\AppData\\Local\\Temp\\ipykernel_12816\\3640389962.py\u001b[0m in \u001b[0;36m<module>\u001b[1;34m\u001b[0m\n\u001b[1;32m----> 1\u001b[1;33m \u001b[0mmovies_data\u001b[0m\u001b[1;33m[\u001b[0m\u001b[1;34m\"Keywords\"\u001b[0m\u001b[1;33m]\u001b[0m \u001b[1;33m=\u001b[0m \u001b[0mmovies_data\u001b[0m\u001b[1;33m[\u001b[0m\u001b[1;34m\"Keywords\"\u001b[0m\u001b[1;33m]\u001b[0m\u001b[1;33m.\u001b[0m\u001b[0mapply\u001b[0m\u001b[1;33m(\u001b[0m\u001b[1;32mlambda\u001b[0m \u001b[0mx\u001b[0m\u001b[1;33m:\u001b[0m\u001b[0mx\u001b[0m\u001b[1;33m.\u001b[0m\u001b[0msplit\u001b[0m\u001b[1;33m(\u001b[0m\u001b[1;33m)\u001b[0m\u001b[1;33m)\u001b[0m\u001b[1;33m\u001b[0m\u001b[1;33m\u001b[0m\u001b[0m\n\u001b[0m",
      "\u001b[1;32m~\\anaconda3\\lib\\site-packages\\pandas\\core\\series.py\u001b[0m in \u001b[0;36mapply\u001b[1;34m(self, func, convert_dtype, args, **kwargs)\u001b[0m\n\u001b[0;32m   4431\u001b[0m         \u001b[0mdtype\u001b[0m\u001b[1;33m:\u001b[0m \u001b[0mfloat64\u001b[0m\u001b[1;33m\u001b[0m\u001b[1;33m\u001b[0m\u001b[0m\n\u001b[0;32m   4432\u001b[0m         \"\"\"\n\u001b[1;32m-> 4433\u001b[1;33m         \u001b[1;32mreturn\u001b[0m \u001b[0mSeriesApply\u001b[0m\u001b[1;33m(\u001b[0m\u001b[0mself\u001b[0m\u001b[1;33m,\u001b[0m \u001b[0mfunc\u001b[0m\u001b[1;33m,\u001b[0m \u001b[0mconvert_dtype\u001b[0m\u001b[1;33m,\u001b[0m \u001b[0margs\u001b[0m\u001b[1;33m,\u001b[0m \u001b[0mkwargs\u001b[0m\u001b[1;33m)\u001b[0m\u001b[1;33m.\u001b[0m\u001b[0mapply\u001b[0m\u001b[1;33m(\u001b[0m\u001b[1;33m)\u001b[0m\u001b[1;33m\u001b[0m\u001b[1;33m\u001b[0m\u001b[0m\n\u001b[0m\u001b[0;32m   4434\u001b[0m \u001b[1;33m\u001b[0m\u001b[0m\n\u001b[0;32m   4435\u001b[0m     def _reduce(\n",
      "\u001b[1;32m~\\anaconda3\\lib\\site-packages\\pandas\\core\\apply.py\u001b[0m in \u001b[0;36mapply\u001b[1;34m(self)\u001b[0m\n\u001b[0;32m   1086\u001b[0m             \u001b[1;32mreturn\u001b[0m \u001b[0mself\u001b[0m\u001b[1;33m.\u001b[0m\u001b[0mapply_str\u001b[0m\u001b[1;33m(\u001b[0m\u001b[1;33m)\u001b[0m\u001b[1;33m\u001b[0m\u001b[1;33m\u001b[0m\u001b[0m\n\u001b[0;32m   1087\u001b[0m \u001b[1;33m\u001b[0m\u001b[0m\n\u001b[1;32m-> 1088\u001b[1;33m         \u001b[1;32mreturn\u001b[0m \u001b[0mself\u001b[0m\u001b[1;33m.\u001b[0m\u001b[0mapply_standard\u001b[0m\u001b[1;33m(\u001b[0m\u001b[1;33m)\u001b[0m\u001b[1;33m\u001b[0m\u001b[1;33m\u001b[0m\u001b[0m\n\u001b[0m\u001b[0;32m   1089\u001b[0m \u001b[1;33m\u001b[0m\u001b[0m\n\u001b[0;32m   1090\u001b[0m     \u001b[1;32mdef\u001b[0m \u001b[0magg\u001b[0m\u001b[1;33m(\u001b[0m\u001b[0mself\u001b[0m\u001b[1;33m)\u001b[0m\u001b[1;33m:\u001b[0m\u001b[1;33m\u001b[0m\u001b[1;33m\u001b[0m\u001b[0m\n",
      "\u001b[1;32m~\\anaconda3\\lib\\site-packages\\pandas\\core\\apply.py\u001b[0m in \u001b[0;36mapply_standard\u001b[1;34m(self)\u001b[0m\n\u001b[0;32m   1141\u001b[0m                 \u001b[1;31m# List[Union[Callable[..., Any], str]]]]]\"; expected\u001b[0m\u001b[1;33m\u001b[0m\u001b[1;33m\u001b[0m\u001b[0m\n\u001b[0;32m   1142\u001b[0m                 \u001b[1;31m# \"Callable[[Any], Any]\"\u001b[0m\u001b[1;33m\u001b[0m\u001b[1;33m\u001b[0m\u001b[0m\n\u001b[1;32m-> 1143\u001b[1;33m                 mapped = lib.map_infer(\n\u001b[0m\u001b[0;32m   1144\u001b[0m                     \u001b[0mvalues\u001b[0m\u001b[1;33m,\u001b[0m\u001b[1;33m\u001b[0m\u001b[1;33m\u001b[0m\u001b[0m\n\u001b[0;32m   1145\u001b[0m                     \u001b[0mf\u001b[0m\u001b[1;33m,\u001b[0m  \u001b[1;31m# type: ignore[arg-type]\u001b[0m\u001b[1;33m\u001b[0m\u001b[1;33m\u001b[0m\u001b[0m\n",
      "\u001b[1;32m~\\anaconda3\\lib\\site-packages\\pandas\\_libs\\lib.pyx\u001b[0m in \u001b[0;36mpandas._libs.lib.map_infer\u001b[1;34m()\u001b[0m\n",
      "\u001b[1;32m~\\AppData\\Local\\Temp\\ipykernel_12816\\3640389962.py\u001b[0m in \u001b[0;36m<lambda>\u001b[1;34m(x)\u001b[0m\n\u001b[1;32m----> 1\u001b[1;33m \u001b[0mmovies_data\u001b[0m\u001b[1;33m[\u001b[0m\u001b[1;34m\"Keywords\"\u001b[0m\u001b[1;33m]\u001b[0m \u001b[1;33m=\u001b[0m \u001b[0mmovies_data\u001b[0m\u001b[1;33m[\u001b[0m\u001b[1;34m\"Keywords\"\u001b[0m\u001b[1;33m]\u001b[0m\u001b[1;33m.\u001b[0m\u001b[0mapply\u001b[0m\u001b[1;33m(\u001b[0m\u001b[1;32mlambda\u001b[0m \u001b[0mx\u001b[0m\u001b[1;33m:\u001b[0m\u001b[0mx\u001b[0m\u001b[1;33m.\u001b[0m\u001b[0msplit\u001b[0m\u001b[1;33m(\u001b[0m\u001b[1;33m)\u001b[0m\u001b[1;33m)\u001b[0m\u001b[1;33m\u001b[0m\u001b[1;33m\u001b[0m\u001b[0m\n\u001b[0m",
      "\u001b[1;31mAttributeError\u001b[0m: 'list' object has no attribute 'split'"
     ]
    }
   ],
   "source": [
    "movies_data[\"Keywords\"] = movies_data[\"Keywords\"].apply(lambda x:x.split())"
   ]
  },
  {
   "cell_type": "code",
   "execution_count": 26,
   "id": "5be67929",
   "metadata": {
    "ExecuteTime": {
     "end_time": "2023-05-22T17:01:55.262421Z",
     "start_time": "2023-05-22T17:01:55.233928Z"
    }
   },
   "outputs": [],
   "source": [
    "movies_data.drop(columns=['Crew'], inplace=True)"
   ]
  },
  {
   "cell_type": "code",
   "execution_count": 27,
   "id": "0a17cfc3",
   "metadata": {
    "ExecuteTime": {
     "end_time": "2023-05-22T17:01:58.930706Z",
     "start_time": "2023-05-22T17:01:58.919206Z"
    },
    "scrolled": true
   },
   "outputs": [],
   "source": [
    "# function to replace the spaces between words\n",
    "def formatter(col):\n",
    "    list_ = []\n",
    "    for item in col:\n",
    "        list_.append(item.replace(\" \", \"\"))\n",
    "    return list_"
   ]
  },
  {
   "cell_type": "code",
   "execution_count": 28,
   "id": "9f3c91eb",
   "metadata": {
    "ExecuteTime": {
     "end_time": "2023-05-22T17:02:03.771989Z",
     "start_time": "2023-05-22T17:02:03.713627Z"
    }
   },
   "outputs": [],
   "source": [
    "movies_data[\"Genres\"] = movies_data[\"Genres\"].apply(formatter)\n",
    "movies_data[\"Cast\"] = movies_data[\"Cast\"].apply(formatter)\n",
    "movies_data[\"director\"] = movies_data[\"director\"].apply(formatter)"
   ]
  },
  {
   "cell_type": "code",
   "execution_count": 29,
   "id": "30ae731a",
   "metadata": {
    "ExecuteTime": {
     "end_time": "2023-05-22T17:02:07.432194Z",
     "start_time": "2023-05-22T17:02:07.393237Z"
    }
   },
   "outputs": [
    {
     "data": {
      "text/html": [
       "<div>\n",
       "<style scoped>\n",
       "    .dataframe tbody tr th:only-of-type {\n",
       "        vertical-align: middle;\n",
       "    }\n",
       "\n",
       "    .dataframe tbody tr th {\n",
       "        vertical-align: top;\n",
       "    }\n",
       "\n",
       "    .dataframe thead th {\n",
       "        text-align: right;\n",
       "    }\n",
       "</style>\n",
       "<table border=\"1\" class=\"dataframe\">\n",
       "  <thead>\n",
       "    <tr style=\"text-align: right;\">\n",
       "      <th></th>\n",
       "      <th>Movie_id</th>\n",
       "      <th>Title</th>\n",
       "      <th>Genres</th>\n",
       "      <th>Keywords</th>\n",
       "      <th>overview</th>\n",
       "      <th>Cast</th>\n",
       "      <th>director</th>\n",
       "    </tr>\n",
       "  </thead>\n",
       "  <tbody>\n",
       "    <tr>\n",
       "      <th>0</th>\n",
       "      <td>238</td>\n",
       "      <td>The Godfather</td>\n",
       "      <td>[Drama, Crime]</td>\n",
       "      <td>[italy, loss of loved one, love at first sight...</td>\n",
       "      <td>[Spanning, the, years, 1945, to, 1955,, a, chr...</td>\n",
       "      <td>[MarlonBrando, AlPacino, JamesCaan]</td>\n",
       "      <td>[FrancisFordCoppola]</td>\n",
       "    </tr>\n",
       "    <tr>\n",
       "      <th>1</th>\n",
       "      <td>278</td>\n",
       "      <td>The Shawshank Redemption</td>\n",
       "      <td>[Drama, Crime]</td>\n",
       "      <td>[prison, corruption, police brutality, based o...</td>\n",
       "      <td>[Framed, in, the, 1940s, for, the, double, mur...</td>\n",
       "      <td>[TimRobbins, MorganFreeman, BobGunton]</td>\n",
       "      <td>[FrankDarabont]</td>\n",
       "    </tr>\n",
       "  </tbody>\n",
       "</table>\n",
       "</div>"
      ],
      "text/plain": [
       "   Movie_id                     Title          Genres  \\\n",
       "0       238             The Godfather  [Drama, Crime]   \n",
       "1       278  The Shawshank Redemption  [Drama, Crime]   \n",
       "\n",
       "                                            Keywords  \\\n",
       "0  [italy, loss of loved one, love at first sight...   \n",
       "1  [prison, corruption, police brutality, based o...   \n",
       "\n",
       "                                            overview  \\\n",
       "0  [Spanning, the, years, 1945, to, 1955,, a, chr...   \n",
       "1  [Framed, in, the, 1940s, for, the, double, mur...   \n",
       "\n",
       "                                     Cast              director  \n",
       "0     [MarlonBrando, AlPacino, JamesCaan]  [FrancisFordCoppola]  \n",
       "1  [TimRobbins, MorganFreeman, BobGunton]       [FrankDarabont]  "
      ]
     },
     "execution_count": 29,
     "metadata": {},
     "output_type": "execute_result"
    }
   ],
   "source": [
    "movies_data.head(2)"
   ]
  },
  {
   "cell_type": "code",
   "execution_count": 30,
   "id": "1e4eebc6",
   "metadata": {
    "ExecuteTime": {
     "end_time": "2023-05-22T17:02:15.501155Z",
     "start_time": "2023-05-22T17:02:15.465252Z"
    },
    "scrolled": true
   },
   "outputs": [
    {
     "data": {
      "text/plain": [
       "0       [italy, loss of loved one, love at first sight...\n",
       "1       [prison, corruption, police brutality, based o...\n",
       "2       [italy, italian american, cuba, symbolism, gan...\n",
       "3                                                      []\n",
       "4       [based on novel or book, factory, concentratio...\n",
       "                              ...                        \n",
       "9975                                  [crime boss, heist]\n",
       "9976    [monster, darkness, desert, archaeologist, fou...\n",
       "9977                                          [christmas]\n",
       "9978            [competition, career, sports, automobile]\n",
       "9979    [poltergeist, haunted house, remake, duringcre...\n",
       "Name: Keywords, Length: 9974, dtype: object"
      ]
     },
     "execution_count": 30,
     "metadata": {},
     "output_type": "execute_result"
    }
   ],
   "source": [
    "movies_data[\"Keywords\"]"
   ]
  },
  {
   "cell_type": "code",
   "execution_count": 31,
   "id": "6999f07e",
   "metadata": {
    "ExecuteTime": {
     "end_time": "2023-05-22T17:03:56.054373Z",
     "start_time": "2023-05-22T17:03:56.015752Z"
    },
    "scrolled": true
   },
   "outputs": [
    {
     "data": {
      "text/plain": [
       "0       [Spanning, the, years, 1945, to, 1955,, a, chr...\n",
       "1       [Framed, in, the, 1940s, for, the, double, mur...\n",
       "2       [In, the, continuing, saga, of, the, Corleone,...\n",
       "3       [Raj, is, a, rich,, carefree,, happy-go-lucky,...\n",
       "4       [The, true, story, of, how, businessman, Oskar...\n",
       "                              ...                        \n",
       "9975    [After, a, botched, heist,, Eddie, a, murderou...\n",
       "9976    [An, archaeological, team, attempt, to, unlock...\n",
       "9977    [8-year-old, Finn, is, terrified, to, learn, h...\n",
       "9978    [Talented, rookie, race-car, driver, Jimmy, Bl...\n",
       "9979    [A, family's, suburban, home, is, invaded, by,...\n",
       "Name: overview, Length: 9974, dtype: object"
      ]
     },
     "execution_count": 31,
     "metadata": {},
     "output_type": "execute_result"
    }
   ],
   "source": [
    "movies_data[\"overview\"]"
   ]
  },
  {
   "cell_type": "code",
   "execution_count": null,
   "id": "f7973513",
   "metadata": {},
   "outputs": [],
   "source": []
  },
  {
   "cell_type": "code",
   "execution_count": 31,
   "id": "2a8854fc",
   "metadata": {
    "ExecuteTime": {
     "end_time": "2023-05-20T20:32:52.986619Z",
     "start_time": "2023-05-20T20:32:52.872066Z"
    }
   },
   "outputs": [],
   "source": [
    "movies_data[\"combination\"] = movies_data[\"Genres\"] + movies_data[\"Keywords\"] + movies_data[\"overview\"] + movies_data[\"Cast\"] + movies_data[\"director\"]"
   ]
  },
  {
   "cell_type": "code",
   "execution_count": 32,
   "id": "4ef9cd70",
   "metadata": {
    "ExecuteTime": {
     "end_time": "2023-05-20T20:32:56.804193Z",
     "start_time": "2023-05-20T20:32:56.779408Z"
    }
   },
   "outputs": [],
   "source": [
    "movies_final = movies_data[[\"Movie_id\", \"Title\", \"combination\"]]"
   ]
  },
  {
   "cell_type": "code",
   "execution_count": 33,
   "id": "95916e1a",
   "metadata": {
    "ExecuteTime": {
     "end_time": "2023-05-20T20:32:57.671355Z",
     "start_time": "2023-05-20T20:32:57.656395Z"
    },
    "scrolled": false
   },
   "outputs": [
    {
     "data": {
      "text/html": [
       "<div>\n",
       "<style scoped>\n",
       "    .dataframe tbody tr th:only-of-type {\n",
       "        vertical-align: middle;\n",
       "    }\n",
       "\n",
       "    .dataframe tbody tr th {\n",
       "        vertical-align: top;\n",
       "    }\n",
       "\n",
       "    .dataframe thead th {\n",
       "        text-align: right;\n",
       "    }\n",
       "</style>\n",
       "<table border=\"1\" class=\"dataframe\">\n",
       "  <thead>\n",
       "    <tr style=\"text-align: right;\">\n",
       "      <th></th>\n",
       "      <th>Movie_id</th>\n",
       "      <th>Title</th>\n",
       "      <th>combination</th>\n",
       "    </tr>\n",
       "  </thead>\n",
       "  <tbody>\n",
       "    <tr>\n",
       "      <th>0</th>\n",
       "      <td>238</td>\n",
       "      <td>The Godfather</td>\n",
       "      <td>[Drama, Crime, italy, loss of loved one, love ...</td>\n",
       "    </tr>\n",
       "    <tr>\n",
       "      <th>1</th>\n",
       "      <td>278</td>\n",
       "      <td>The Shawshank Redemption</td>\n",
       "      <td>[Drama, Crime, prison, corruption, police brut...</td>\n",
       "    </tr>\n",
       "  </tbody>\n",
       "</table>\n",
       "</div>"
      ],
      "text/plain": [
       "   Movie_id                     Title  \\\n",
       "0       238             The Godfather   \n",
       "1       278  The Shawshank Redemption   \n",
       "\n",
       "                                         combination  \n",
       "0  [Drama, Crime, italy, loss of loved one, love ...  \n",
       "1  [Drama, Crime, prison, corruption, police brut...  "
      ]
     },
     "execution_count": 33,
     "metadata": {},
     "output_type": "execute_result"
    }
   ],
   "source": [
    "movies_final.head(2)"
   ]
  },
  {
   "cell_type": "code",
   "execution_count": 34,
   "id": "3d4644d6",
   "metadata": {
    "ExecuteTime": {
     "end_time": "2023-05-20T20:33:12.734019Z",
     "start_time": "2023-05-20T20:33:12.685813Z"
    },
    "scrolled": true
   },
   "outputs": [
    {
     "name": "stderr",
     "output_type": "stream",
     "text": [
      "C:\\Users\\mbora\\AppData\\Local\\Temp\\ipykernel_9644\\1748761255.py:1: SettingWithCopyWarning: \n",
      "A value is trying to be set on a copy of a slice from a DataFrame.\n",
      "Try using .loc[row_indexer,col_indexer] = value instead\n",
      "\n",
      "See the caveats in the documentation: https://pandas.pydata.org/pandas-docs/stable/user_guide/indexing.html#returning-a-view-versus-a-copy\n",
      "  movies_final.loc[:, \"combination\"] = movies_final.loc[:, \"combination\"].apply(lambda x:\" \".join(x))\n"
     ]
    }
   ],
   "source": [
    "movies_final.loc[:, \"combination\"] = movies_final.loc[:, \"combination\"].apply(lambda x:\" \".join(x))"
   ]
  },
  {
   "cell_type": "code",
   "execution_count": 35,
   "id": "2357fe4d",
   "metadata": {
    "ExecuteTime": {
     "end_time": "2023-05-20T20:33:13.553764Z",
     "start_time": "2023-05-20T20:33:13.509961Z"
    }
   },
   "outputs": [
    {
     "name": "stderr",
     "output_type": "stream",
     "text": [
      "C:\\Users\\mbora\\AppData\\Local\\Temp\\ipykernel_9644\\696567099.py:1: SettingWithCopyWarning: \n",
      "A value is trying to be set on a copy of a slice from a DataFrame.\n",
      "Try using .loc[row_indexer,col_indexer] = value instead\n",
      "\n",
      "See the caveats in the documentation: https://pandas.pydata.org/pandas-docs/stable/user_guide/indexing.html#returning-a-view-versus-a-copy\n",
      "  movies_final[\"combination\"] = movies_final[\"combination\"].apply(lambda x:x.lower())\n"
     ]
    }
   ],
   "source": [
    "movies_final[\"combination\"] = movies_final[\"combination\"].apply(lambda x:x.lower())"
   ]
  },
  {
   "cell_type": "code",
   "execution_count": 36,
   "id": "06956b9e",
   "metadata": {
    "ExecuteTime": {
     "end_time": "2023-05-20T20:33:15.608746Z",
     "start_time": "2023-05-20T20:33:15.582088Z"
    }
   },
   "outputs": [
    {
     "data": {
      "text/plain": [
       "0       drama crime italy loss of loved one love at fi...\n",
       "1       drama crime prison corruption police brutality...\n",
       "2       drama crime italy italian american cuba symbol...\n",
       "3       comedy drama romance raj is a rich, carefree, ...\n",
       "4       drama history war based on novel or book facto...\n",
       "                              ...                        \n",
       "9975    action crime thriller crime boss heist after a...\n",
       "9976    horror monster darkness desert archaeologist f...\n",
       "9977    comedy family tvmovie christmas 8-year-old fin...\n",
       "9978    action competition career sports automobile ta...\n",
       "9979    horror poltergeist haunted house remake during...\n",
       "Name: combination, Length: 9974, dtype: object"
      ]
     },
     "execution_count": 36,
     "metadata": {},
     "output_type": "execute_result"
    }
   ],
   "source": [
    "movies_final[\"combination\"]"
   ]
  },
  {
   "cell_type": "code",
   "execution_count": 37,
   "id": "11008497",
   "metadata": {
    "ExecuteTime": {
     "end_time": "2023-05-20T20:33:20.972108Z",
     "start_time": "2023-05-20T20:33:18.214098Z"
    }
   },
   "outputs": [],
   "source": [
    "import nltk\n",
    "from nltk.stem import PorterStemmer"
   ]
  },
  {
   "cell_type": "code",
   "execution_count": 38,
   "id": "b31baca7",
   "metadata": {
    "ExecuteTime": {
     "end_time": "2023-05-20T20:33:25.329383Z",
     "start_time": "2023-05-20T20:33:25.317765Z"
    }
   },
   "outputs": [
    {
     "data": {
      "text/plain": [
       "'drama crime italy loss of loved one love at first sight based on novel or book europe symbolism patriarch organized crime mafia lawyer religion revenge motive crime family sicilian mafia religious hypocrisy gun violence rise to power dead horse gang violence 1940s 1950s mafia war part of trilogy spanning the years 1945 to 1955, a chronicle of the fictional italian-american corleone crime family. when organized crime family patriarch, vito corleone barely survives an attempt on his life, his youngest son, michael steps in to take care of the would-be killers, launching a campaign of bloody revenge. marlonbrando alpacino jamescaan francisfordcoppola'"
      ]
     },
     "execution_count": 38,
     "metadata": {},
     "output_type": "execute_result"
    }
   ],
   "source": [
    "movies_final[\"combination\"][0]"
   ]
  },
  {
   "cell_type": "code",
   "execution_count": 39,
   "id": "3b3004be",
   "metadata": {
    "ExecuteTime": {
     "end_time": "2023-05-20T20:33:30.296036Z",
     "start_time": "2023-05-20T20:33:30.275938Z"
    }
   },
   "outputs": [],
   "source": [
    "def stem(word):\n",
    "    ps = PorterStemmer()\n",
    "    return ps.stem(word)"
   ]
  },
  {
   "cell_type": "code",
   "execution_count": 40,
   "id": "68f7dfe2",
   "metadata": {
    "ExecuteTime": {
     "end_time": "2023-05-20T20:33:58.102865Z",
     "start_time": "2023-05-20T20:33:32.196186Z"
    }
   },
   "outputs": [
    {
     "name": "stderr",
     "output_type": "stream",
     "text": [
      "C:\\Users\\mbora\\AppData\\Local\\Temp\\ipykernel_9644\\578369330.py:1: SettingWithCopyWarning: \n",
      "A value is trying to be set on a copy of a slice from a DataFrame.\n",
      "Try using .loc[row_indexer,col_indexer] = value instead\n",
      "\n",
      "See the caveats in the documentation: https://pandas.pydata.org/pandas-docs/stable/user_guide/indexing.html#returning-a-view-versus-a-copy\n",
      "  movies_final[\"combination\"] = movies_final[\"combination\"].apply(lambda x:\" \".join([stem(word) for word in x.split()]))\n"
     ]
    }
   ],
   "source": [
    "movies_final[\"combination\"] = movies_final[\"combination\"].apply(lambda x:\" \".join([stem(word) for word in x.split()]))"
   ]
  },
  {
   "cell_type": "code",
   "execution_count": 41,
   "id": "1e27dc95",
   "metadata": {
    "ExecuteTime": {
     "end_time": "2023-05-20T20:34:02.821314Z",
     "start_time": "2023-05-20T20:34:02.798440Z"
    },
    "scrolled": true
   },
   "outputs": [
    {
     "data": {
      "text/plain": [
       "0       drama crime itali loss of love one love at fir...\n",
       "1       drama crime prison corrupt polic brutal base o...\n",
       "2       drama crime itali italian american cuba symbol...\n",
       "3       comedi drama romanc raj is a rich, carefree, h...\n",
       "4       drama histori war base on novel or book factor...\n",
       "                              ...                        \n",
       "9975    action crime thriller crime boss heist after a...\n",
       "9976    horror monster dark desert archaeologist found...\n",
       "9977    comedi famili tvmovi christma 8-year-old finn ...\n",
       "9978    action competit career sport automobil talent ...\n",
       "9979    horror poltergeist haunt hous remak duringcred...\n",
       "Name: combination, Length: 9974, dtype: object"
      ]
     },
     "execution_count": 41,
     "metadata": {},
     "output_type": "execute_result"
    }
   ],
   "source": [
    "movies_final[\"combination\"]"
   ]
  },
  {
   "cell_type": "markdown",
   "id": "3511d88d",
   "metadata": {},
   "source": [
    "**CountVectorizer** is a machine learning algorithm that is used to convert text data into a numerical format that can be used by other machine learning algorithms. It does this by counting the number of times each word appears in a document. The resulting numerical representation of the text is called a bag-of-words model."
   ]
  },
  {
   "cell_type": "code",
   "execution_count": 42,
   "id": "9ce4cf7f",
   "metadata": {
    "ExecuteTime": {
     "end_time": "2023-05-20T20:34:06.422170Z",
     "start_time": "2023-05-20T20:34:06.408218Z"
    }
   },
   "outputs": [],
   "source": [
    "# importing CountVectorizer\n",
    "from sklearn.feature_extraction.text import CountVectorizer\n",
    "cv = CountVectorizer(max_features=10000, stop_words=\"english\")"
   ]
  },
  {
   "cell_type": "code",
   "execution_count": 43,
   "id": "a4d0f4ac",
   "metadata": {
    "ExecuteTime": {
     "end_time": "2023-05-20T20:34:09.208567Z",
     "start_time": "2023-05-20T20:34:07.351535Z"
    }
   },
   "outputs": [],
   "source": [
    "vectors = cv.fit_transform(movies_final[\"combination\"]).toarray()"
   ]
  },
  {
   "cell_type": "code",
   "execution_count": 44,
   "id": "aa8f5ae7",
   "metadata": {
    "ExecuteTime": {
     "end_time": "2023-05-20T20:34:10.039990Z",
     "start_time": "2023-05-20T20:34:10.004757Z"
    }
   },
   "outputs": [
    {
     "data": {
      "text/plain": [
       "(9974, 10000)"
      ]
     },
     "execution_count": 44,
     "metadata": {},
     "output_type": "execute_result"
    }
   ],
   "source": [
    "vectors.shape"
   ]
  },
  {
   "cell_type": "code",
   "execution_count": 45,
   "id": "85338fb1",
   "metadata": {
    "ExecuteTime": {
     "end_time": "2023-05-20T20:34:11.089204Z",
     "start_time": "2023-05-20T20:34:11.071163Z"
    }
   },
   "outputs": [],
   "source": [
    "# def stem(text):\n",
    "#     list_ = []\n",
    "#     for i in text.split():\n",
    "#         list_.append(PorterStemmer.stem(i))\n",
    "        \n",
    "#     return \" \".join(list_)"
   ]
  },
  {
   "cell_type": "code",
   "execution_count": null,
   "id": "3a546714",
   "metadata": {
    "ExecuteTime": {
     "end_time": "2023-05-19T21:13:25.882451Z",
     "start_time": "2023-05-19T21:13:25.874101Z"
    }
   },
   "outputs": [],
   "source": [
    "#movies_final[\"tags\"] = movies_final[\"tags\"].apply(stem)"
   ]
  },
  {
   "cell_type": "markdown",
   "id": "12a20b50",
   "metadata": {},
   "source": [
    "**Cosine similarity** is a measure of similarity between two non-zero vectors defined in an inner product space. Cosine similarity is the cosine of the angle between the vectors; that is, it is the dot product of the vectors divided by the product of their lengths. It follows that the cosine similarity does not depend on the magnitudes of the vectors, but only on their angle. The cosine similarity always belongs to the interval [-1, 1]."
   ]
  },
  {
   "cell_type": "code",
   "execution_count": 46,
   "id": "0a3d750a",
   "metadata": {
    "ExecuteTime": {
     "end_time": "2023-05-20T20:34:27.455126Z",
     "start_time": "2023-05-20T20:34:14.115342Z"
    }
   },
   "outputs": [],
   "source": [
    "from sklearn.metrics.pairwise import cosine_similarity\n",
    "cs = cosine_similarity(vectors)"
   ]
  },
  {
   "cell_type": "code",
   "execution_count": 47,
   "id": "69995763",
   "metadata": {
    "ExecuteTime": {
     "end_time": "2023-05-20T20:34:35.781375Z",
     "start_time": "2023-05-20T20:34:35.770762Z"
    },
    "scrolled": false
   },
   "outputs": [
    {
     "data": {
      "text/plain": [
       "(9974, 9974)"
      ]
     },
     "execution_count": 47,
     "metadata": {},
     "output_type": "execute_result"
    }
   ],
   "source": [
    "cs.shape"
   ]
  },
  {
   "cell_type": "code",
   "execution_count": 48,
   "id": "958f15ae",
   "metadata": {
    "ExecuteTime": {
     "end_time": "2023-05-20T20:34:36.546956Z",
     "start_time": "2023-05-20T20:34:36.517748Z"
    }
   },
   "outputs": [
    {
     "data": {
      "text/plain": [
       "array([[1.        , 0.18114575, 0.48560714, ..., 0.11468293, 0.09157015,\n",
       "        0.07777628],\n",
       "       [0.18114575, 1.        , 0.07587039, ..., 0.15203028, 0.20135435,\n",
       "        0.02025271],\n",
       "       [0.48560714, 0.07587039, 1.        , ..., 0.05822225, 0.        ,\n",
       "        0.05429253],\n",
       "       ...,\n",
       "       [0.11468293, 0.15203028, 0.05822225, ..., 1.        , 0.18298126,\n",
       "        0.13987572],\n",
       "       [0.09157015, 0.20135435, 0.        , ..., 0.18298126, 1.        ,\n",
       "        0.        ],\n",
       "       [0.07777628, 0.02025271, 0.05429253, ..., 0.13987572, 0.        ,\n",
       "        1.        ]])"
      ]
     },
     "execution_count": 48,
     "metadata": {},
     "output_type": "execute_result"
    }
   ],
   "source": [
    "cs"
   ]
  },
  {
   "cell_type": "code",
   "execution_count": 50,
   "id": "8d9dee66",
   "metadata": {
    "ExecuteTime": {
     "end_time": "2023-05-20T20:34:56.901945Z",
     "start_time": "2023-05-20T20:34:56.868886Z"
    }
   },
   "outputs": [
    {
     "data": {
      "text/plain": [
       "[(2, 0.4856071418767538),\n",
       " (1633, 0.42294442611014477),\n",
       " (6583, 0.3956282840374722),\n",
       " (9782, 0.3808554565920136),\n",
       " (5642, 0.3581885095735786)]"
      ]
     },
     "execution_count": 50,
     "metadata": {},
     "output_type": "execute_result"
    }
   ],
   "source": [
    "sorted(list(enumerate(cs[0])), key=lambda x:x[1], reverse=True)[1:6]"
   ]
  },
  {
   "cell_type": "code",
   "execution_count": 51,
   "id": "5ac16935",
   "metadata": {
    "ExecuteTime": {
     "end_time": "2023-05-20T20:35:07.706560Z",
     "start_time": "2023-05-20T20:35:07.693168Z"
    }
   },
   "outputs": [],
   "source": [
    "def recommender(movie):\n",
    "    movie_index = movies_final[movies_final[\"Title\"]==movie].index[0] # to extract movie information\n",
    "    similiarity = cs[movie_index] # access the list element with index = movie_index\n",
    "    index_dist_pair = sorted(list(enumerate(similiarity)), key = lambda x:x[1], reverse=True)[1:6] # extract the top 5 recommended movies\n",
    "    \n",
    "    for i in index_dist_pair:\n",
    "        print(movies_final.iloc[i[0]].Title)"
   ]
  },
  {
   "cell_type": "code",
   "execution_count": 52,
   "id": "aa2e6d65",
   "metadata": {
    "ExecuteTime": {
     "end_time": "2023-05-20T20:35:11.972685Z",
     "start_time": "2023-05-20T20:35:11.948671Z"
    }
   },
   "outputs": [
    {
     "data": {
      "text/plain": [
       "0                  The Godfather\n",
       "1       The Shawshank Redemption\n",
       "2          The Godfather Part II\n",
       "3    Dilwale Dulhania Le Jayenge\n",
       "4               Schindler's List\n",
       "Name: Title, dtype: object"
      ]
     },
     "execution_count": 52,
     "metadata": {},
     "output_type": "execute_result"
    }
   ],
   "source": [
    "movies_final[\"Title\"][0:5]"
   ]
  },
  {
   "cell_type": "code",
   "execution_count": 53,
   "id": "b1ecba80",
   "metadata": {
    "ExecuteTime": {
     "end_time": "2023-05-20T20:35:15.240320Z",
     "start_time": "2023-05-20T20:35:15.201201Z"
    },
    "scrolled": true
   },
   "outputs": [
    {
     "name": "stdout",
     "output_type": "stream",
     "text": [
      "The Godfather Part II\n",
      "The Godfather Part III\n",
      "The Air I Breathe\n",
      "Gotti\n",
      "The Informer\n"
     ]
    }
   ],
   "source": [
    "recommender(\"The Godfather\")"
   ]
  },
  {
   "cell_type": "code",
   "execution_count": 54,
   "id": "be6d6cb0",
   "metadata": {
    "ExecuteTime": {
     "end_time": "2023-05-20T20:35:18.891490Z",
     "start_time": "2023-05-20T20:35:18.877514Z"
    }
   },
   "outputs": [],
   "source": [
    "import pickle"
   ]
  },
  {
   "cell_type": "code",
   "execution_count": 55,
   "id": "7c8719bb",
   "metadata": {
    "ExecuteTime": {
     "end_time": "2023-05-20T20:37:44.849922Z",
     "start_time": "2023-05-20T20:37:43.273102Z"
    }
   },
   "outputs": [],
   "source": [
    "pickle.dump(movies_final.to_dict(), open(\"movies.pkl\", \"wb\"))\n",
    "pickle.dump(cs, open(\"similarity.pkl\", \"wb\"))"
   ]
  },
  {
   "cell_type": "code",
   "execution_count": null,
   "id": "a52df10c",
   "metadata": {},
   "outputs": [],
   "source": []
  }
 ],
 "metadata": {
  "kernelspec": {
   "display_name": "Python 3 (ipykernel)",
   "language": "python",
   "name": "python3"
  },
  "language_info": {
   "codemirror_mode": {
    "name": "ipython",
    "version": 3
   },
   "file_extension": ".py",
   "mimetype": "text/x-python",
   "name": "python",
   "nbconvert_exporter": "python",
   "pygments_lexer": "ipython3",
   "version": "3.9.13"
  },
  "toc": {
   "base_numbering": 1,
   "nav_menu": {},
   "number_sections": true,
   "sideBar": true,
   "skip_h1_title": false,
   "title_cell": "Table of Contents",
   "title_sidebar": "Contents",
   "toc_cell": false,
   "toc_position": {},
   "toc_section_display": true,
   "toc_window_display": false
  }
 },
 "nbformat": 4,
 "nbformat_minor": 5
}
